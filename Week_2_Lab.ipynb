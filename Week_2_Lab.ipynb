{
 "cells": [
  {
   "cell_type": "code",
   "execution_count": null,
   "metadata": {},
   "outputs": [],
   "source": [
    "# Week_2 Lab \n",
    "\n"
   ]
  },
  {
   "cell_type": "code",
   "execution_count": null,
   "metadata": {},
   "outputs": [],
   "source": [
    "# Addition of Two Numbers\n",
    "num1 = 10\n",
    "num2 = 5\n",
    "addition_result = num1 + num2\n",
    "print(\"Addition:\", addition_result)\n",
    "\n"
   ]
  },
  {
   "cell_type": "code",
   "execution_count": null,
   "metadata": {},
   "outputs": [],
   "source": [
    "# Subtraction of Two Numbers\n",
    "\n",
    "num1 = 10\n",
    "num2 = 5\n",
    "subtraction_result = num1 - num2\n",
    "print(\"Subtraction:\", subtraction_result)\n"
   ]
  },
  {
   "cell_type": "code",
   "execution_count": null,
   "metadata": {},
   "outputs": [],
   "source": [
    "#  Multiplication of Two Numbers \n",
    "\n",
    "num1 = 10\n",
    "num2 = 5\n",
    "multiplication_result = num1 * num2\n",
    "print(\"Multiplication:\", multiplication_result)\n"
   ]
  },
  {
   "cell_type": "code",
   "execution_count": 5,
   "metadata": {},
   "outputs": [
    {
     "name": "stdout",
     "output_type": "stream",
     "text": [
      "Division: 2.0\n"
     ]
    }
   ],
   "source": [
    "#  Division of Two Numbers \n",
    "\n",
    "num1 = 10\n",
    "num2 = 5\n",
    "division_result = num1 / num2  # Returns a float result\n",
    "print(\"Division:\", division_result)\n"
   ]
  },
  {
   "cell_type": "code",
   "execution_count": 8,
   "metadata": {},
   "outputs": [
    {
     "name": "stdout",
     "output_type": "stream",
     "text": [
      "Remainder: 0\n"
     ]
    }
   ],
   "source": [
    "#   Remainder (Modulus) of Two Numbers \n",
    "\n",
    "num1 = 10\n",
    "num2 = 5\n",
    "remainder_result = num1 % num2\n",
    "print(\"Remainder:\", remainder_result)\n"
   ]
  },
  {
   "cell_type": "code",
   "execution_count": 9,
   "metadata": {},
   "outputs": [
    {
     "name": "stdout",
     "output_type": "stream",
     "text": [
      "Power: 100\n"
     ]
    }
   ],
   "source": [
    "#  Power of a Number \n",
    "\n",
    "num1 = 10\n",
    "power_result = num1 ** 2  # num1 raised to the power of num2\n",
    "print(\"Power:\", power_result)\n"
   ]
  },
  {
   "cell_type": "code",
   "execution_count": null,
   "metadata": {},
   "outputs": [],
   "source": [
    "#  Exercise 2: Python Data Types "
   ]
  },
  {
   "cell_type": "code",
   "execution_count": 10,
   "metadata": {},
   "outputs": [
    {
     "name": "stdout",
     "output_type": "stream",
     "text": [
      "List of Fruits: ['Apple', 'Banana', 'Cherry', 'Mango', 'Grapes']\n"
     ]
    }
   ],
   "source": [
    "#  1. Create a List of 5 Different Fruits \n",
    "\n",
    "fruits = [\"Apple\", \"Banana\", \"Cherry\", \"Mango\", \"Grapes\"]\n",
    "print(\"List of Fruits:\", fruits)\n"
   ]
  },
  {
   "cell_type": "code",
   "execution_count": null,
   "metadata": {},
   "outputs": [],
   "source": [
    "#  2. Create a Tuple of 3 Different Animals\n",
    "\n",
    "animals = (\"Tiger\", \"Elephant\", \"Kangaroo\")\n",
    "print(\"Tuple of Animals:\", animals)\n"
   ]
  },
  {
   "cell_type": "code",
   "execution_count": 11,
   "metadata": {},
   "outputs": [
    {
     "name": "stdout",
     "output_type": "stream",
     "text": [
      "Programming Languages and Release Years: {'Python': 1991, 'Java': 1995, 'C++': 1985}\n"
     ]
    }
   ],
   "source": [
    "#  3. Create a Dictionary of 3 Programming Languages \n",
    "# and Their Release Dates \n",
    "\n",
    "languages = {\n",
    "    \"Python\": 1991,\n",
    "    \"Java\": 1995,\n",
    "    \"C++\": 1985\n",
    "}\n",
    "print(\"Programming Languages and Release Years:\", languages)\n"
   ]
  },
  {
   "cell_type": "code",
   "execution_count": 12,
   "metadata": {},
   "outputs": [
    {
     "name": "stdout",
     "output_type": "stream",
     "text": [
      "Set of Colors: {'Blue', 'Green', 'Red'}\n"
     ]
    }
   ],
   "source": [
    "# 4. Create a Set of 3 Different Colors \n",
    "\n",
    "colors = {\"Red\", \"Blue\", \"Green\"}\n",
    "print(\"Set of Colors:\", colors)\n"
   ]
  },
  {
   "cell_type": "code",
   "execution_count": 13,
   "metadata": {},
   "outputs": [
    {
     "name": "stdout",
     "output_type": "stream",
     "text": [
      "Python is an easy-to-learn programming language.\n"
     ]
    }
   ],
   "source": [
    "# 5. Create a String Variable with a Sentence  \n",
    "\n",
    "sentence = \"Python is an easy-to-learn programming language.\"\n",
    "print(sentence)\n"
   ]
  },
  {
   "cell_type": "code",
   "execution_count": null,
   "metadata": {},
   "outputs": [],
   "source": [
    "#  Exercise 3: Conditions  "
   ]
  },
  {
   "cell_type": "code",
   "execution_count": null,
   "metadata": {},
   "outputs": [],
   "source": [
    "# 1. Check if a Number is Positive, Negative, or Zero \n",
    "\n",
    "num = float(input(\"Enter a number: \"))\n",
    "\n",
    "if num > 0:\n",
    "    print(\"The number is positive.\")\n",
    "elif num < 0:\n",
    "    print(\"The number is negative.\")\n",
    "else:\n",
    "    print(\"The number is zero.\")\n"
   ]
  },
  {
   "cell_type": "code",
   "execution_count": 16,
   "metadata": {},
   "outputs": [
    {
     "name": "stdout",
     "output_type": "stream",
     "text": [
      "The word starts with a consonant.\n"
     ]
    }
   ],
   "source": [
    "#  2. Check if a String Starts with a Vowel or Consonant \n",
    "\n",
    "word = input(\"Enter a word: \").strip().lower().upper()\n",
    "vowels = \"AaEeIiOoUu\"\n",
    "\n",
    "if word and word[0] in vowels:\n",
    "    print(\"The word starts with a vowel.\")\n",
    "else:\n",
    "    print(\"The word starts with a consonant.\")\n"
   ]
  },
  {
   "cell_type": "code",
   "execution_count": null,
   "metadata": {},
   "outputs": [],
   "source": [
    "# 3. Check if Two Numbers are Equal or Not \n",
    "\n",
    "num1 = float(input(\"Enter the first number: \"))\n",
    "num2 = float(input(\"Enter the second number: \"))\n",
    "\n",
    "if num1 == num2:\n",
    "    print(\"The numbers are equal.\")\n",
    "else:\n",
    "    print(\"The numbers are not equal.\")\n"
   ]
  },
  {
   "cell_type": "code",
   "execution_count": null,
   "metadata": {},
   "outputs": [],
   "source": [
    "#  Exercise 4: Loops"
   ]
  },
  {
   "cell_type": "code",
   "execution_count": null,
   "metadata": {},
   "outputs": [],
   "source": [
    "# 1. Print Numbers from 1 to 10 using a for loop\n",
    "\n",
    "for num in range(1, 11):\n",
    "    print(num)\n"
   ]
  },
  {
   "cell_type": "code",
   "execution_count": 17,
   "metadata": {},
   "outputs": [],
   "source": [
    "# 2. Print Even Numbers from 2 to 10 using a for loop \n",
    "\n",
    "for num in range(2, 11, 2):  # Start at 2, go up to 10, step by 2\n",
    "    print(num)\n"
   ]
  },
  {
   "cell_type": "code",
   "execution_count": null,
   "metadata": {},
   "outputs": [],
   "source": [
    "# 3. Print the First 5 Numbers of the \n",
    "# Fibonacci Sequence using a while loop \n",
    "\n",
    "a, b = 0, 1  # First two numbers of the Fibonacci sequence\n",
    "count = 0\n",
    "\n",
    "while count < 5:\n",
    "    print(a)\n",
    "    a, b = b, a + b  # Update Fibonacci numbers\n",
    "    count += 1\n"
   ]
  },
  {
   "cell_type": "code",
   "execution_count": null,
   "metadata": {},
   "outputs": [],
   "source": [
    "#  Exercise 5: Functions "
   ]
  },
  {
   "cell_type": "code",
   "execution_count": null,
   "metadata": {},
   "outputs": [],
   "source": [
    "# 1. Function to Return the Sum of Two Numbers\n",
    "\n",
    "def add_numbers(a, b):\n",
    "    return a + b\n",
    "\n",
    "# Example usage\n",
    "result = add_numbers(5, 10)\n",
    "print(\"Sum:\", result)\n"
   ]
  },
  {
   "cell_type": "code",
   "execution_count": null,
   "metadata": {},
   "outputs": [],
   "source": [
    "#  2. Function to Return the Largest Number in a List\n",
    "\n",
    "def find_largest(numbers):\n",
    "    return max(numbers) if numbers else None  # Returns None if the list is empty\n",
    "\n",
    "# Example usage\n",
    "numbers_list = [3, 7, 2, 9, 5]\n",
    "largest = find_largest(numbers_list)\n",
    "print(\"Largest number:\", largest)\n"
   ]
  },
  {
   "cell_type": "code",
   "execution_count": null,
   "metadata": {},
   "outputs": [],
   "source": [
    "# 3. Function to Return the Number of Vowels in a String\n",
    "\n",
    "def count_vowels(string):\n",
    "    vowels = \"aeiouAEIOU\"\n",
    "    count = sum(1 for char in string if char in vowels)\n",
    "    return count\n",
    "\n",
    "# Example usage\n",
    "text = \"Python is amazing!\"\n",
    "vowel_count = count_vowels(text)\n",
    "print(\"Number of vowels:\", vowel_count)\n"
   ]
  },
  {
   "cell_type": "code",
   "execution_count": null,
   "metadata": {},
   "outputs": [],
   "source": [
    "#  Exercise 6: Password Strength Checker\n",
    "\n",
    "import string\n",
    "\n",
    "def check_password_strength(password):\n",
    "    special_characters = string.punctuation  # All special characters\n",
    "    errors = []\n",
    "\n",
    "    if len(password) < 8:\n",
    "        errors.append(\"at least 8 characters long\")\n",
    "\n",
    "    if not any(char.isupper() for char in password):\n",
    "        errors.append(\"at least one uppercase letter\")\n",
    "\n",
    "    if not any(char.islower() for char in password):\n",
    "        errors.append(\"at least one lowercase letter\")\n",
    "\n",
    "    if not any(char in special_characters for char in password):\n",
    "        errors.append(\"at least one special character (e.g. @, #, $, %)\")\n",
    "\n",
    "    if errors:\n",
    "        print(\"Password must contain \" + \", \".join(errors) + \".\")\n",
    "    else:\n",
    "        print(\"Password is strong.\")\n",
    "\n",
    "# Example usage\n",
    "password = input(\"Enter your password: \")\n",
    "check_password_strength(password)\n"
   ]
  },
  {
   "cell_type": "code",
   "execution_count": null,
   "metadata": {},
   "outputs": [],
   "source": [
    "#  Exercise 7: Caesar Cipher\n",
    "\n",
    "def caesar_cipher(message, key, mode):\n",
    "    result = \"\"\n",
    "\n",
    "    for char in message:\n",
    "        if char.isalpha():  # Check if the character is a letter\n",
    "            shift = key if mode == \"encrypt\" else -key\n",
    "            ascii_offset = ord('A') if char.isupper() else ord('a')\n",
    "            new_char = chr((ord(char) - ascii_offset + shift) % 26 + ascii_offset)\n",
    "            result += new_char\n",
    "        else:\n",
    "            result += char  # Keep non-alphabet characters unchanged\n",
    "\n",
    "    return result\n",
    "\n",
    "# Example usage\n",
    "message = input(\"Enter message: \")\n",
    "key = int(input(\"Enter shift key: \"))\n",
    "mode = input(\"Enter mode (encrypt/decrypt): \").strip().lower()\n",
    "\n",
    "if mode in [\"encrypt\", \"decrypt\"]:\n",
    "    output = caesar_cipher(message, key, mode)\n",
    "    print(\"Output:\", output)\n",
    "else:\n",
    "    print(\"Invalid mode! Choose 'encrypt' or 'decrypt'.\")\n"
   ]
  },
  {
   "cell_type": "code",
   "execution_count": 2,
   "metadata": {},
   "outputs": [
    {
     "name": "stdout",
     "output_type": "stream",
     "text": [
      "Welcome to Hangman!\n",
      "_ _ _ _ _ _\n",
      "Invalid input! Enter a single letter.\n",
      "Invalid input! Enter a single letter.\n",
      "Invalid input! Enter a single letter.\n",
      "Invalid input! Enter a single letter.\n",
      "Invalid input! Enter a single letter.\n",
      "Invalid input! Enter a single letter.\n",
      "Invalid input! Enter a single letter.\n",
      "Invalid input! Enter a single letter.\n",
      "Invalid input! Enter a single letter.\n",
      "Invalid input! Enter a single letter.\n",
      "Invalid input! Enter a single letter.\n",
      "Invalid input! Enter a single letter.\n",
      "Invalid input! Enter a single letter.\n",
      "Invalid input! Enter a single letter.\n",
      "Invalid input! Enter a single letter.\n",
      "Invalid input! Enter a single letter.\n",
      "Incorrect! You have 5 guesses left.\n",
      "Incorrect! You have 4 guesses left.\n",
      "Incorrect! You have 3 guesses left.\n",
      "You already guessed that letter!\n",
      "Invalid input! Enter a single letter.\n",
      "You already guessed that letter!\n",
      "Incorrect! You have 2 guesses left.\n",
      "_ _ _ _ o _\n",
      "You already guessed that letter!\n",
      "Invalid input! Enter a single letter.\n",
      "Incorrect! You have 1 guesses left.\n",
      "Incorrect! You have 0 guesses left.\n",
      "Game Over! The word was: python\n"
     ]
    }
   ],
   "source": [
    "#  Exercise 8: Hangman Game \n",
    "\n",
    "import random\n",
    "\n",
    "def hangman():\n",
    "    words = [\"python\", \"java\", \"javascript\"]  # Word list\n",
    "    word = random.choice(words)  # Randomly select a word\n",
    "    guessed_word = [\"_\"] * len(word)  # Create blanks for the word\n",
    "    guessed_letters = set()  # Store guessed letters\n",
    "    max_guesses = 6  # Max incorrect guesses\n",
    "    attempts = 0\n",
    "\n",
    "    print(\"Welcome to Hangman!\")\n",
    "    print(\" \".join(guessed_word))  # Display blanks\n",
    "\n",
    "    while attempts < max_guesses:\n",
    "        guess = input(\"Guess a letter: \").lower()\n",
    "\n",
    "        if len(guess) != 1 or not guess.isalpha():\n",
    "            print(\"Invalid input! Enter a single letter.\")\n",
    "            continue\n",
    "\n",
    "        if guess in guessed_letters:\n",
    "            print(\"You already guessed that letter!\")\n",
    "            continue\n",
    "\n",
    "        guessed_letters.add(guess)  # Add guessed letter to the set\n",
    "\n",
    "        if guess in word:\n",
    "            for i in range(len(word)):  \n",
    "                if word[i] == guess:\n",
    "                    guessed_word[i] = guess\n",
    "            print(\" \".join(guessed_word))  # Display updated word\n",
    "        else:\n",
    "            attempts += 1\n",
    "            print(f\"Incorrect! You have {max_guesses - attempts} guesses left.\")\n",
    "        \n",
    "        if \"_\" not in guessed_word:\n",
    "            print(f\"Congratulations! You guessed the word: {word}\")\n",
    "            return\n",
    "\n",
    "    print(f\"Game Over! The word was: {word}\")\n",
    "\n",
    "# Run the game\n",
    "hangman()\n"
   ]
  }
 ],
 "metadata": {
  "kernelspec": {
   "display_name": "Python 3",
   "language": "python",
   "name": "python3"
  },
  "language_info": {
   "codemirror_mode": {
    "name": "ipython",
    "version": 3
   },
   "file_extension": ".py",
   "mimetype": "text/x-python",
   "name": "python",
   "nbconvert_exporter": "python",
   "pygments_lexer": "ipython3",
   "version": "3.12.5"
  }
 },
 "nbformat": 4,
 "nbformat_minor": 2
}
